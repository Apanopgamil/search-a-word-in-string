{
 "cells": [
  {
   "cell_type": "code",
   "execution_count": 1,
   "id": "987b6619",
   "metadata": {},
   "outputs": [
    {
     "name": "stdout",
     "output_type": "stream",
     "text": [
      "0 3\n",
      "10 13\n",
      "19 22\n",
      "numper of matches :  3\n"
     ]
    }
   ],
   "source": [
    "string =\"ali gamil ali seif ali \"\n",
    "import re\n",
    "pattern = re.compile(\"ali\")\n",
    "matches = pattern.finditer(string)\n",
    "counter=0\n",
    "for i in matches :\n",
    "    print(i.span()[0] , i.span()[1])\n",
    "    counter+=1\n",
    "print(\"numper of matches : \",counter) "
   ]
  },
  {
   "cell_type": "code",
   "execution_count": null,
   "id": "b287bf7a",
   "metadata": {},
   "outputs": [],
   "source": []
  }
 ],
 "metadata": {
  "kernelspec": {
   "display_name": "Python 3 (ipykernel)",
   "language": "python",
   "name": "python3"
  },
  "language_info": {
   "codemirror_mode": {
    "name": "ipython",
    "version": 3
   },
   "file_extension": ".py",
   "mimetype": "text/x-python",
   "name": "python",
   "nbconvert_exporter": "python",
   "pygments_lexer": "ipython3",
   "version": "3.9.13"
  }
 },
 "nbformat": 4,
 "nbformat_minor": 5
}
